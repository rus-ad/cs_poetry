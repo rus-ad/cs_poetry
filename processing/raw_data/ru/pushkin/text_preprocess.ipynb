{
 "cells": [
  {
   "cell_type": "code",
   "execution_count": 145,
   "metadata": {},
   "outputs": [],
   "source": [
    "import re\n",
    "import pandas as pd\n",
    "from sklearn.model_selection import train_test_split"
   ]
  },
  {
   "cell_type": "code",
   "execution_count": 146,
   "metadata": {},
   "outputs": [],
   "source": [
    "filename = './Пушкин Александр. Полное собрание стихотворений - royallib.ru.txt'"
   ]
  },
  {
   "cell_type": "code",
   "execution_count": 147,
   "metadata": {},
   "outputs": [],
   "source": [
    "with open(filename, 'rb') as file:\n",
    "    data = file.read().decode('cp1251')"
   ]
  },
  {
   "cell_type": "code",
   "execution_count": 148,
   "metadata": {},
   "outputs": [],
   "source": [
    "poems = data.split('\\r\\n\\r\\n\\r\\n')\n",
    "library = []\n",
    "\n",
    "for poem in poems:\n",
    "    if '\\xa0г' in poem and 'Стихотворения' in poem:\n",
    "        period = re.sub('([^\\W\\d]|\\s)', '', poem)\n",
    "        if '–' in period:\n",
    "            period = period.split('–')\n",
    "            period = str(int(sum(map(int, period)) / len(period)))\n",
    "    \n",
    "    couplets = poem.split('\\r\\n\\r\\n\\t\\t')\n",
    "    \n",
    "    clear_name = couplets[0]\n",
    "    if len(clear_name.split('\\r\\n\\t\\t')) > 3:\n",
    "        library.append(\n",
    "            {\n",
    "                'year': period,\n",
    "                'name': '* * *',\n",
    "                'poem': clear_name,\n",
    "            }\n",
    "        )\n",
    "        clear_name = '* * *'\n",
    "        \n",
    "    if clear_name.find('(') != -1:\n",
    "        clear_name = clear_name[:clear_name.find('(')]\n",
    "        \n",
    "    if clear_name.find('[') != -1:\n",
    "        clear_name = clear_name[:clear_name.find('[')]\n",
    "        \n",
    "    if not clear_name.startswith('\\r\\n') and '*' not in clear_name:\n",
    "        clear_name = '* * *'\n",
    "        \n",
    "    if len(clear_name.split('\\r\\n\\r\\n')) > 3:\n",
    "        clear_name = '* * *'\n",
    "        \n",
    "    clear_name = re.sub('[\\r\\n|\\xa0|<|>]', ' ', clear_name)\n",
    "    clear_name = re.sub('\\s+', ' ', clear_name)\n",
    "    \n",
    "    if '***' in clear_name or clear_name.strip() == '':\n",
    "        clear_name  = '* * *'\n",
    "    \n",
    "    clear_couplets = []\n",
    "    for couplet in couplets[1:]:\n",
    "        ru_words = re.findall(r'[А-я]+',  couplet)\n",
    "        eng_words = re.findall(r'[A-z]+',  couplet)\n",
    "        if len(ru_words) > len(eng_words):\n",
    "            clear_couplets.append(couplet)\n",
    "        \n",
    "    if not clear_couplets:\n",
    "        continue\n",
    "        \n",
    "    library.append(\n",
    "        {\n",
    "            'year': period,\n",
    "            'name': clear_name.strip(),\n",
    "            'poem': clear_couplets,\n",
    "        }\n",
    "    )"
   ]
  },
  {
   "cell_type": "code",
   "execution_count": 149,
   "metadata": {},
   "outputs": [],
   "source": [
    "df = pd.DataFrame(library)\n",
    "df['poem'] = df['poem'].map(lambda x: ''.join(x))\n",
    "df['name'] = df['year'].str.cat(df['name'], sep=' ')\n",
    "df = df.drop(columns=['year'])"
   ]
  },
  {
   "cell_type": "code",
   "execution_count": 150,
   "metadata": {},
   "outputs": [],
   "source": [
    "train, valid = train_test_split(df, test_size=0.20, random_state=42, shuffle=True)"
   ]
  },
  {
   "cell_type": "code",
   "execution_count": 151,
   "metadata": {},
   "outputs": [],
   "source": [
    "train.to_csv('pushkin_train.csv', index=False)\n",
    "valid.to_csv('pushkin_valid.csv', index=False)"
   ]
  },
  {
   "cell_type": "code",
   "execution_count": null,
   "metadata": {},
   "outputs": [],
   "source": []
  }
 ],
 "metadata": {
  "kernelspec": {
   "display_name": "Python 3",
   "language": "python",
   "name": "python3"
  },
  "language_info": {
   "codemirror_mode": {
    "name": "ipython",
    "version": 3
   },
   "file_extension": ".py",
   "mimetype": "text/x-python",
   "name": "python",
   "nbconvert_exporter": "python",
   "pygments_lexer": "ipython3",
   "version": "3.6.8"
  }
 },
 "nbformat": 4,
 "nbformat_minor": 4
}
